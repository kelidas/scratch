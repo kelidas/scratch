{
 "metadata": {
  "name": "string_decompile"
 },
 "nbformat": 3,
 "nbformat_minor": 0,
 "worksheets": [
  {
   "cells": [
    {
     "cell_type": "code",
     "collapsed": false,
     "input": [
      "import re"
     ],
     "language": "python",
     "metadata": {},
     "outputs": [],
     "prompt_number": 1
    },
    {
     "cell_type": "code",
     "collapsed": false,
     "input": [
      "a = '#     AD-0:     0.023193    0.023193    V\\n'\n",
      "b = '#     AD-1:     0.000000    0.000000    V\\n'"
     ],
     "language": "python",
     "metadata": {},
     "outputs": [],
     "prompt_number": 39
    },
    {
     "cell_type": "code",
     "collapsed": false,
     "input": [
      "m = re.match(r'#\\s+AD-(\\d+):\\s+([-+]?\\d+\\.\\d*)\\s+([-+]?\\d+\\.\\d*)', a)\n",
      "m.groups()"
     ],
     "language": "python",
     "metadata": {},
     "outputs": [
      {
       "output_type": "pyout",
       "prompt_number": 48,
       "text": [
        "('0', '0.023193', '0.023193')"
       ]
      }
     ],
     "prompt_number": 48
    },
    {
     "cell_type": "code",
     "collapsed": false,
     "input": [
      "m = re.match(r'#\\s+AD-(\\d+):\\s+([-+]?\\d+\\.\\d*)\\s+([-+]?\\d+\\.\\d*)', b)\n",
      "m.groups()"
     ],
     "language": "python",
     "metadata": {},
     "outputs": [
      {
       "output_type": "pyout",
       "prompt_number": 50,
       "text": [
        "('1', '0.000000', '0.000000')"
       ]
      }
     ],
     "prompt_number": 50
    },
    {
     "cell_type": "code",
     "collapsed": false,
     "input": [],
     "language": "python",
     "metadata": {},
     "outputs": []
    }
   ],
   "metadata": {}
  }
 ]
}