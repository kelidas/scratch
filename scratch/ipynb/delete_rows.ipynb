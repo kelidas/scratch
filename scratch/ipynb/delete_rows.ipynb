{
 "cells": [
  {
   "cell_type": "code",
   "execution_count": 13,
   "metadata": {
    "collapsed": true
   },
   "outputs": [],
   "source": [
    "import numpy as np\n",
    "import platform\n",
    "import time\n",
    "if platform.system() == 'Linux':\n",
    "    sysclock = time.time\n",
    "elif platform.system() == 'Windows':\n",
    "    sysclock = time.clock\n",
    "from functools import wraps"
   ]
  },
  {
   "cell_type": "code",
   "execution_count": 14,
   "metadata": {
    "collapsed": false
   },
   "outputs": [],
   "source": [
    "def timeit(func):\n",
    "    @wraps(func)\n",
    "    def func_wrapper(*args, **kwargs):\n",
    "        t = sysclock()\n",
    "        res = func(*args)\n",
    "        print 'Evaluation time of %s is %f s.' % (func.__name__, sysclock()-t)\n",
    "        return res\n",
    "    return func_wrapper\n",
    "\n",
    "@timeit\n",
    "def delete_slow(arr, idx):\n",
    "    for i in idx:\n",
    "        arr = np.delete(arr, i, axis=0)\n",
    "        arr = np.delete(arr, i, axis=1)\n",
    "    return arr\n",
    "\n",
    "@timeit\n",
    "def delete_arr(arr, idx):\n",
    "    arr = np.delete(arr, idx, axis=0)\n",
    "    arr = np.delete(arr, idx, axis=1)\n",
    "    return arr\n",
    "\n",
    "@timeit\n",
    "def delete_mask(arr, idx):\n",
    "    id_ = np.arange(arr.shape[0])\n",
    "    #varianta 1\n",
    "    #id_[idx] = -1\n",
    "    #id_ = id_[id_>=0]\n",
    "    #################\n",
    "    \n",
    "    # varianta 2\n",
    "    id_ = np.delete(id_, idx)\n",
    "    #################\n",
    "    \n",
    "    arr = arr[id_, :]\n",
    "    return arr[:, id_]"
   ]
  },
  {
   "cell_type": "code",
   "execution_count": 15,
   "metadata": {
    "collapsed": true
   },
   "outputs": [],
   "source": [
    "ns = 5000\n",
    "ndel = 50"
   ]
  },
  {
   "cell_type": "code",
   "execution_count": 16,
   "metadata": {
    "collapsed": false
   },
   "outputs": [],
   "source": [
    "a = np.ones((ns,ns))#np.random.randint(0, 20, size=(ns,ns))"
   ]
  },
  {
   "cell_type": "code",
   "execution_count": 17,
   "metadata": {
    "collapsed": false
   },
   "outputs": [
    {
     "name": "stdout",
     "output_type": "stream",
     "text": [
      "Evaluation time of delete_slow is 9.536933 s.\n",
      "Evaluation time of delete_arr is 0.212985 s.\n",
      "Evaluation time of delete_mask is 0.178996 s.\n"
     ]
    }
   ],
   "source": [
    "idx = np.arange(ndel)[::-1]\n",
    "a1 = delete_slow(a, idx) \n",
    "a2 = delete_arr(a,idx)\n",
    "a3 = delete_mask(a, idx)"
   ]
  },
  {
   "cell_type": "code",
   "execution_count": 18,
   "metadata": {
    "collapsed": false
   },
   "outputs": [
    {
     "data": {
      "text/plain": [
       "(True, True)"
      ]
     },
     "execution_count": 18,
     "metadata": {},
     "output_type": "execute_result"
    }
   ],
   "source": [
    "np.allclose(a1, a2), np.allclose(a2, a3)"
   ]
  },
  {
   "cell_type": "code",
   "execution_count": null,
   "metadata": {
    "collapsed": false
   },
   "outputs": [],
   "source": []
  },
  {
   "cell_type": "code",
   "execution_count": null,
   "metadata": {
    "collapsed": true
   },
   "outputs": [],
   "source": []
  }
 ],
 "metadata": {
  "kernelspec": {
   "display_name": "Python 2",
   "language": "python",
   "name": "python2"
  },
  "language_info": {
   "codemirror_mode": {
    "name": "ipython",
    "version": 2
   },
   "file_extension": ".py",
   "mimetype": "text/x-python",
   "name": "python",
   "nbconvert_exporter": "python",
   "pygments_lexer": "ipython2",
   "version": "2.7.11"
  }
 },
 "nbformat": 4,
 "nbformat_minor": 0
}
